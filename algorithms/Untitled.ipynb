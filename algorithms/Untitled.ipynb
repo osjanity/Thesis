{
 "cells": [
  {
   "cell_type": "code",
   "execution_count": 48,
   "metadata": {},
   "outputs": [
    {
     "name": "stdout",
     "output_type": "stream",
     "text": [
      "Fie \n"
     ]
    }
   ],
   "source": [
    "## Random name generator:\n",
    "import random\n",
    "import string\n",
    "vowels = 'aeiou'\n",
    "consonants = 'bcdfghjklmnpqrstvwxyz'\n",
    " \n",
    "c = \"c\"\n",
    "v = \"v\" \n",
    "\n",
    "d1 = [c,v,v,c,v]\n",
    "d3 = [v,c,v,v,c]\n",
    "d5 = [c,v,v,c]\n",
    "d7 = [c,v,c,v,c,v,v]\n",
    "d9 = [c,v,c]\n",
    "d10 = [c,v,v]\n",
    "d11 = [v,v,c,v]\n",
    "\n",
    "    \n",
    "dists = [d1, d3, d5, d7, d9, d10, d11]\n",
    "\n",
    "num_names = random.randint(1,2)\n",
    "\n",
    "name = \"\"\n",
    "for i in range(num_names):\n",
    "    dist = random.choice(dists)\n",
    "    for letter in dist:\n",
    "        if letter == v:\n",
    "            choice = random.choice(vowels)\n",
    "        if letter == c:\n",
    "            choice = random.choice(consonants)\n",
    "        name += choice\n",
    "    name += \" \"\n",
    "print(name.capitalize())"
   ]
  },
  {
   "cell_type": "code",
   "execution_count": null,
   "metadata": {},
   "outputs": [],
   "source": []
  },
  {
   "cell_type": "code",
   "execution_count": null,
   "metadata": {},
   "outputs": [],
   "source": []
  }
 ],
 "metadata": {
  "kernelspec": {
   "display_name": "Python 3",
   "language": "python",
   "name": "python3"
  },
  "language_info": {
   "codemirror_mode": {
    "name": "ipython",
    "version": 3
   },
   "file_extension": ".py",
   "mimetype": "text/x-python",
   "name": "python",
   "nbconvert_exporter": "python",
   "pygments_lexer": "ipython3",
   "version": "3.6.4"
  }
 },
 "nbformat": 4,
 "nbformat_minor": 2
}
